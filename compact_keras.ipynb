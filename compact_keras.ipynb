{
 "cells": [
  {
   "cell_type": "code",
   "execution_count": 1,
   "metadata": {
    "collapsed": false
   },
   "outputs": [
    {
     "name": "stderr",
     "output_type": "stream",
     "text": [
      "Using Theano backend.\n",
      "WARNING (theano.sandbox.cuda): The cuda backend is deprecated and will be removed in the next release (v0.10).  Please switch to the gpuarray backend. You can get more information about how to switch at this URL:\n",
      " https://github.com/Theano/Theano/wiki/Converting-to-the-new-gpu-back-end%28gpuarray%29\n",
      "\n",
      "Using gpu device 0: GeForce 920M (CNMeM is disabled, cuDNN not available)\n"
     ]
    }
   ],
   "source": [
    "from functions_files import compact_keras"
   ]
  },
  {
   "cell_type": "code",
   "execution_count": 2,
   "metadata": {
    "collapsed": false
   },
   "outputs": [],
   "source": [
    "import numpy as np\n",
    "\n",
    "from sklearn import model_selection\n",
    "from sklearn import preprocessing\n",
    "from sklearn import datasets\n",
    "\n",
    "import pickle"
   ]
  },
  {
   "cell_type": "code",
   "execution_count": 3,
   "metadata": {
    "collapsed": false
   },
   "outputs": [],
   "source": [
    "from scipy.sparse import *\n",
    "from keras.utils import np_utils\n",
    "\n",
    "iris = datasets.load_iris()\n",
    "data = iris.data # iris data\n",
    "trgt = iris.target # iris data\n",
    "iris_colors = ['b','r','g']\n",
    "iris_labels = ['Setosa','Versicolor','Virginica']\n",
    "\n",
    "# for classification -> target max sparse\n",
    "trgt_sparse = np_utils.to_categorical(trgt)\n"
   ]
  },
  {
   "cell_type": "code",
   "execution_count": 8,
   "metadata": {
    "collapsed": false
   },
   "outputs": [
    {
     "data": {
      "text/plain": [
       "(150, 4)"
      ]
     },
     "execution_count": 8,
     "metadata": {},
     "output_type": "execute_result"
    }
   ],
   "source": [
    "data.shape"
   ]
  },
  {
   "cell_type": "code",
   "execution_count": 6,
   "metadata": {
    "collapsed": false,
    "scrolled": true
   },
   "outputs": [],
   "source": [
    "from keras.models import Sequential\n",
    "from keras.layers.core import Dense, Dropout, Activation\n",
    "from keras.optimizers import *\n",
    "import keras.callbacks as callbacks\n",
    "\n",
    "\n",
    "class Compact_Keras(object):\n",
    "    '''\n",
    "    version -- v0.0\n",
    "    Compact Keras is a class that you can create Keras models faster and more easy with less code lines.\n",
    "    \n",
    "    Arguments:\n",
    "    \n",
    "    input_size -- the size of data (features) that will be use for contruct the neural network model.\n",
    "    \n",
    "    Keyword arguments:\n",
    "    \n",
    "    hidden_layers -- number of hidden layer to be used in your model (default is 1).\n",
    "    numbers_of_neurons -- numbers of neurons to be used to construct the model (default is 5).\n",
    "    epoch_numbers -- number of training epochs (default is 50).\n",
    "    batch_size -- number of events to be use in echa epoch (mini-batch) (default is 5).\n",
    "    callbacks -- callbacks to use in traning see https://keras.io/callbacks/ (default is None).\n",
    "    number_neurons_output_layer -- number of neurons to be use in output layer\n",
    "    loss_function -- function to be minimized in training (default is Binary Crossentropy).\n",
    "    optimizer -- optimizer to be used in traning (default is Adam).\n",
    "    output_layer_activation -- the function to be use in the output layer (default is hiperbolic tangent[tanh])\n",
    "    \n",
    "    \n",
    "    *~ it's possible use other Keras optimezers and Keras loss_functions more information on:\n",
    "        https://keras.io/optimizers/\n",
    "        https://keras.io/losses/  ~*\n",
    "\n",
    "    \n",
    "                        Compact Keras - Compact for those tho see giant for those who uses:\n",
    "    *=============================================================================================================*\n",
    "    ||                                   Classification Exemple:                                                 ||\n",
    "    || Create a sintetic input and sintetic target                                                               ||\n",
    "    || >>> A = np.vstack((np.ones((100,2)),-1*np.ones((100,2)))                                                  ||\n",
    "    || >>> sintetic_target = np.hstack((np.ones((100)),-1*np.ones((100)))                                        ||\n",
    "    || >>> sparse_trgt = np_utils.to_categorical(sintetic_target) # make targets maximally sparse                ||     \n",
    "    || Create the Compact Keras objet                                                                            ||\n",
    "    || >>> compact_keras = Compact_Keras(A.shape[1])                                                             ||\n",
    "    || >>> train_model = compact_keras.train(A[:150,:],sparse_trgt[:150,:],                                      ||\n",
    "    ||                                       validation_data=(A[150:,:],sparse_trgt[150:,:]))                    ||\n",
    "    ||                                                                                                           ||\n",
    "    ||                                                                                                           ||\n",
    "    *=============================================================================================================*\n",
    "    \n",
    "    '''\n",
    "    \n",
    "    def __init__(self, input_size, n_hidden_layers=1, number_of_neurons=5, number_neurons_output_layer=2,\n",
    "                 epoch_numbers=100, batch_size=5, callbacks=None,\n",
    "                 loss_function='binary_crossentropy',optimizer='adam',output_layer_activation='tanh'):\n",
    "        \n",
    "        \n",
    "        self.n_hidden_layers = n_hidden_layers\n",
    "        self.number_of_neurons = number_of_neurons\n",
    "        self.epoch_numbers = epoch_numbers\n",
    "        self.batch_size = batch_size\n",
    "        self.callbacks = callbacks\n",
    "        self.number_neurons_output_layer = number_neurons_output_layer\n",
    "        self.loss_function = loss_function\n",
    "        self.optimizer = optimizer\n",
    "        self.output_layer_activation = output_layer_activation\n",
    "        \n",
    "        # the constructor create and compile a keras model\n",
    "        model = Sequential()\n",
    "        model.add(Dense(input_size,\n",
    "                        kernel_initializer='identity',\n",
    "                        trainable=False,\n",
    "                        input_dim=input_size))\n",
    "        model.add(Activation('linear'))\n",
    "        \n",
    "        for ilayer in range(self.n_hidden_layers):\n",
    "            model.add(Dense(self.number_of_neurons, kernel_initializer='uniform',\n",
    "                            input_dim=input_size))\n",
    "            model.add(Activation('tanh'))\n",
    "            if ilayer != 0:\n",
    "                model.add(Dense(self.number_of_neurons, kernel_initializer='uniform',\n",
    "                                input_dim=self.number_of_neurons))\n",
    "                model.add(Activation('tanh'))\n",
    "            \n",
    "        model.add(Dense(self.number_neurons_output_layer,kernel_initializer='uniform'))\n",
    "        model.add(Activation(self.output_layer_activation)) \n",
    "        model.compile(loss=self.loss_function, optimizer=self.optimizer,\n",
    "                      metrics=['accuracy'])\n",
    "        self.model = model\n",
    "    \n",
    "    def train(self,input_data,data_target,validation_data,verbose=0,shuffle=True):\n",
    "    \n",
    "        self.verbose = verbose\n",
    "        self.shuffle = shuffle\n",
    "        \n",
    "        trn_desc = self.model.fit(input_data, data_target, \n",
    "                             epochs=self.epoch_numbers, \n",
    "                             batch_size=self.batch_size,\n",
    "                             callbacks=self.callbacks, \n",
    "                             verbose=verbose,\n",
    "                             validation_data=validation_data,\n",
    "                             shuffle=shuffle)\n",
    "        \n",
    "        return trn_desc\n",
    "        "
   ]
  },
  {
   "cell_type": "code",
   "execution_count": 5,
   "metadata": {
    "collapsed": false
   },
   "outputs": [],
   "source": [
    "compact_keras = compact_keras.Compact_Keras(data.shape[1],number_neurons_output_layer=3)"
   ]
  },
  {
   "cell_type": "code",
   "execution_count": 6,
   "metadata": {
    "collapsed": false
   },
   "outputs": [],
   "source": [
    "CVO = model_selection.StratifiedKFold(2)\n",
    "\n",
    "train_id, test_id = CVO.split(data, trgt)\n",
    "\n",
    "\n",
    "train_id, test_id = train_id[0], test_id[0]\n",
    "\n",
    "scaler = preprocessing.StandardScaler().fit(data[train_id,:])\n",
    "norm_data = scaler.transform(data)\n",
    "\n",
    "train_model = compact_keras.train(norm_data[train_id,:],trgt_sparse[train_id,:],\n",
    "                                  validation_data=(data[test_id,:],trgt_sparse[test_id,:]))\n",
    "\n"
   ]
  },
  {
   "cell_type": "code",
   "execution_count": 7,
   "metadata": {
    "collapsed": false
   },
   "outputs": [
    {
     "data": {
      "image/png": "[encoded data removed]",
      "text/plain": [
       "<matplotlib.figure.Figure at 0x7f2fb0722cd0>"
      ]
     },
     "metadata": {},
     "output_type": "display_data"
    }
   ],
   "source": [
    "import matplotlib.pyplot as plt\n",
    "plt.plot(train_model.history['acc'],label='train acc')\n",
    "plt.plot(train_model.history['val_acc'],label='val acc')\n",
    "plt.legend()\n",
    "plt.show()"
   ]
  },
  {
   "cell_type": "code",
   "execution_count": 14,
   "metadata": {
    "collapsed": false
   },
   "outputs": [
    {
     "name": "stdout",
     "output_type": "stream",
     "text": [
      "(None, 3)\n"
     ]
    }
   ],
   "source": [
    "print(compact_keras.model.output_shape)"
   ]
  },
  {
   "cell_type": "code",
   "execution_count": 17,
   "metadata": {
    "collapsed": false
   },
   "outputs": [
    {
     "data": {
      "text/plain": [
       "array([[ 0.88545102, -0.1762545 , -0.03537255],\n",
       "       [ 0.86880815, -0.12655708, -0.03499366],\n",
       "       [ 0.87410903, -0.16323879, -0.03441182],\n",
       "       [ 0.86166555, -0.09872435, -0.03450795],\n",
       "       [ 0.88614905, -0.18124101, -0.03518445],\n",
       "       [ 0.87907529, -0.0656296 , -0.03587392],\n",
       "       [ 0.86721921, -0.10523479, -0.03439239],\n",
       "       [ 0.87886155, -0.14309047, -0.03523181],\n",
       "       [ 0.85346353, -0.09552447, -0.03397453],\n",
       "       [ 0.87570143, -0.15926066, -0.03502997],\n",
       "       [ 0.89136314, -0.17775318, -0.03600542],\n",
       "       [ 0.87200165, -0.11199181, -0.03494859],\n",
       "       [ 0.8741312 , -0.17125624, -0.03470421],\n",
       "       [ 0.87335604, -0.22876443, -0.03299908],\n",
       "       [ 0.9043203 , -0.25231683, -0.03704446],\n",
       "       [ 0.89829355, -0.15854943, -0.03628599],\n",
       "       [ 0.89001614, -0.15404411, -0.03576009],\n",
       "       [ 0.87962353, -0.13306522, -0.03533102],\n",
       "       [ 0.88766259, -0.11268307, -0.03635505],\n",
       "       [ 0.88412523, -0.13648991, -0.03537473],\n",
       "       [ 0.87966716, -0.11031552, -0.03605866],\n",
       "       [ 0.8749088 , -0.08125065, -0.03537973],\n",
       "       [ 0.88871789, -0.25350967, -0.03401956],\n",
       "       [ 0.83874416,  0.08298797, -0.03618999],\n",
       "       [ 0.85982287, -0.03204316, -0.03536635],\n",
       "       [ 0.86318761, -0.07790484, -0.03546003],\n",
       "       [ 0.85850179, -0.01553892, -0.03552437],\n",
       "       [ 0.88448572, -0.15754609, -0.03561038],\n",
       "       [ 0.88473117, -0.17120245, -0.03555971],\n",
       "       [ 0.86337864, -0.08688394, -0.03482796],\n",
       "       [ 0.86213201, -0.08013572, -0.03505829],\n",
       "       [ 0.87168974, -0.06263901, -0.03594144],\n",
       "       [ 0.89940774, -0.23336343, -0.03596509],\n",
       "       [ 0.90184015, -0.22702423, -0.03643151],\n",
       "       [ 0.87570143, -0.15926066, -0.03502997],\n",
       "       [ 0.88202339, -0.1939964 , -0.03499717],\n",
       "       [ 0.89285946, -0.20517366, -0.03615292],\n",
       "       [ 0.87570143, -0.15926066, -0.03502997],\n",
       "       [ 0.86154008, -0.13422568, -0.03373631],\n",
       "       [ 0.88053983, -0.14625302, -0.03542252],\n",
       "       [ 0.88079685, -0.15275289, -0.03506961],\n",
       "       [ 0.81942928,  0.01016827, -0.03475308],\n",
       "       [ 0.8681646 , -0.15388674, -0.03370681],\n",
       "       [ 0.83832639,  0.09133372, -0.03593409],\n",
       "       [ 0.86179024,  0.01289604, -0.03577528],\n",
       "       [ 0.8576299 , -0.06958158, -0.03494793],\n",
       "       [ 0.88714039, -0.15709749, -0.03548545],\n",
       "       [ 0.86885124, -0.13537572, -0.03432077],\n",
       "       [ 0.89008057, -0.17535143, -0.03582126],\n",
       "       [ 0.87917453, -0.1574702 , -0.03515588],\n",
       "       [-0.21367139,  0.94831282, -0.0542631 ],\n",
       "       [-0.26010147,  0.95237142, -0.05464229],\n",
       "       [-0.30061096,  0.95775557, -0.05518692],\n",
       "       [-0.27842355,  0.94891822, -0.05470772],\n",
       "       [-0.31134406,  0.95744979, -0.05531913],\n",
       "       [-0.28602809,  0.95264143, -0.05485615],\n",
       "       [-0.31603655,  0.95870274, -0.05514918],\n",
       "       [-0.00699625,  0.8984611 , -0.05093944],\n",
       "       [-0.22627489,  0.94806027, -0.05448471],\n",
       "       [-0.27000955,  0.94823986, -0.05430862],\n",
       "       [-0.13581124,  0.92185187, -0.05268338],\n",
       "       [-0.26855457,  0.95146257, -0.05462071],\n",
       "       [-0.11700617,  0.9269613 , -0.05334871],\n",
       "       [-0.30981243,  0.95675486, -0.05520336],\n",
       "       [-0.08877529,  0.92379969, -0.05243947],\n",
       "       [-0.19110106,  0.94440514, -0.05400451],\n",
       "       [-0.32913515,  0.95799458, -0.05514427],\n",
       "       [-0.06988688,  0.92110658, -0.05256048],\n",
       "       [-0.36373267,  0.96124125, -0.05585798],\n",
       "       [-0.13323642,  0.92916238, -0.05316759],\n",
       "       [-0.39024737,  0.96568877, -0.05566771],\n",
       "       [-0.15673889,  0.93651694, -0.05356026],\n",
       "       [-0.3754355 ,  0.96354616, -0.05591363],\n",
       "       [-0.25708574,  0.95032102, -0.05475246],\n",
       "       [-0.18114305,  0.94154948, -0.05392553],\n",
       "       [-0.21410187,  0.94673562, -0.05427816],\n",
       "       [-0.29277793,  0.9560672 , -0.05522665],\n",
       "       [-0.37372023,  0.96485126, -0.05579517],\n",
       "       [-0.31664738,  0.95720631, -0.05519804],\n",
       "       [ 0.08611237,  0.88677615, -0.05055574],\n",
       "       [-0.13676971,  0.92848551, -0.05314366],\n",
       "       [-0.05177863,  0.91337484, -0.05216356],\n",
       "       [-0.12878375,  0.93051279, -0.05315091],\n",
       "       [-0.40392026,  0.96656001, -0.05593965],\n",
       "       [-0.33937284,  0.95871079, -0.05515145],\n",
       "       [-0.29636607,  0.95612556, -0.0548379 ],\n",
       "       [-0.28357717,  0.95548099, -0.05498485],\n",
       "       [-0.2866714 ,  0.95272529, -0.05522414],\n",
       "       [-0.19446138,  0.94092143, -0.05371689],\n",
       "       [-0.25372884,  0.94645202, -0.05440886],\n",
       "       [-0.27367583,  0.94979119, -0.05468976],\n",
       "       [-0.28538659,  0.95417023, -0.05492411],\n",
       "       [-0.17043149,  0.93642259, -0.05366687],\n",
       "       [-0.0162824 ,  0.90040493, -0.05117222],\n",
       "       [-0.25581673,  0.94801736, -0.05447713],\n",
       "       [-0.16049199,  0.93659896, -0.0534227 ],\n",
       "       [-0.22117114,  0.94456542, -0.05410253],\n",
       "       [-0.19898681,  0.94330519, -0.05406482],\n",
       "       [ 0.07551219,  0.88115704, -0.05000319],\n",
       "       [-0.21547252,  0.94333315, -0.05405146],\n",
       "       [-0.46483904,  0.97451842, -0.05553494],\n",
       "       [-0.43800205,  0.97000819, -0.05589505],\n",
       "       [-0.44732353,  0.97278112, -0.05594964],\n",
       "       [-0.43362984,  0.97050953, -0.05600024],\n",
       "       [-0.45577219,  0.97325885, -0.05581228],\n",
       "       [-0.45588738,  0.97409886, -0.055849  ],\n",
       "       [-0.42153665,  0.96593606, -0.05549368],\n",
       "       [-0.44076121,  0.97223377, -0.05605735],\n",
       "       [-0.4436388 ,  0.97158176, -0.05611096],\n",
       "       [-0.45707807,  0.97431403, -0.05567329],\n",
       "       [-0.41699308,  0.96922857, -0.05589621],\n",
       "       [-0.43442321,  0.97037768, -0.05603581],\n",
       "       [-0.44073662,  0.97179103, -0.05596877],\n",
       "       [-0.44819158,  0.97075099, -0.05584463],\n",
       "       [-0.46112028,  0.97292507, -0.05563603],\n",
       "       [-0.44779342,  0.97235501, -0.05581906],\n",
       "       [-0.42287517,  0.96968961, -0.05600104],\n",
       "       [-0.44978955,  0.97397763, -0.05573725],\n",
       "       [-0.46657398,  0.97524655, -0.05562884],\n",
       "       [-0.40823567,  0.96609795, -0.05608701],\n",
       "       [-0.45097873,  0.97315419, -0.0558405 ],\n",
       "       [-0.43930975,  0.96996939, -0.05578855],\n",
       "       [-0.45581284,  0.97403383, -0.05590229],\n",
       "       [-0.40890852,  0.96743464, -0.05598307],\n",
       "       [-0.44115147,  0.97206736, -0.0558938 ],\n",
       "       [-0.4243522 ,  0.9707582 , -0.05600666],\n",
       "       [-0.40118852,  0.96660835, -0.05589737],\n",
       "       [-0.40088674,  0.96678895, -0.05583085],\n",
       "       [-0.45215622,  0.97252697, -0.05589661],\n",
       "       [-0.40047979,  0.96823943, -0.05602495],\n",
       "       [-0.44193423,  0.97230631, -0.05606619],\n",
       "       [-0.42759648,  0.97199869, -0.05581543],\n",
       "       [-0.45625624,  0.97300935, -0.05583496],\n",
       "       [-0.37366399,  0.96399075, -0.05582884],\n",
       "       [-0.41005486,  0.96737945, -0.05607656],\n",
       "       [-0.45395723,  0.97387701, -0.05586231],\n",
       "       [-0.45587164,  0.97341615, -0.05568989],\n",
       "       [-0.4215588 ,  0.96957141, -0.05596174],\n",
       "       [-0.39738727,  0.96624964, -0.05578125],\n",
       "       [-0.43361649,  0.97122049, -0.05596982],\n",
       "       [-0.45646465,  0.9735285 , -0.05577322],\n",
       "       [-0.43774998,  0.97157514, -0.05593069],\n",
       "       [-0.43800205,  0.97000819, -0.05589505],\n",
       "       [-0.45556912,  0.97362655, -0.05578341],\n",
       "       [-0.45868582,  0.973957  , -0.05568957],\n",
       "       [-0.44556752,  0.97215283, -0.05590544],\n",
       "       [-0.43101034,  0.96953887, -0.05605809],\n",
       "       [-0.42809531,  0.97014481, -0.05596578],\n",
       "       [-0.44872555,  0.97250003, -0.05575192],\n",
       "       [-0.41728196,  0.96830773, -0.05586199]], dtype=float32)"
      ]
     },
     "execution_count": 17,
     "metadata": {},
     "output_type": "execute_result"
    }
   ],
   "source": [
    "compact_keras.model.predict(data)"
   ]
  },
  {
   "cell_type": "code",
   "execution_count": null,
   "metadata": {
    "collapsed": true
   },
   "outputs": [],
   "source": []
  }
 ],
 "metadata": {
  "kernelspec": {
   "display_name": "Python 2",
   "language": "python",
   "name": "python2"
  },
  "language_info": {
   "codemirror_mode": {
    "name": "ipython",
    "version": 2
   },
   "file_extension": ".py",
   "mimetype": "text/x-python",
   "name": "python",
   "nbconvert_exporter": "python",
   "pygments_lexer": "ipython2",
   "version": "2.7.13"
  }
 },
 "nbformat": 4,
 "nbformat_minor": 1
}
