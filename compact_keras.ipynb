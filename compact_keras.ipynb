{
 "cells": [
  {
   "cell_type": "code",
   "execution_count": 1,
   "metadata": {
    "collapsed": false
   },
   "outputs": [],
   "source": [
    "import numpy as np\n",
    "\n",
    "from sklearn import model_selection\n",
    "from sklearn import preprocessing\n",
    "\n",
    "import pickle"
   ]
  },
  {
   "cell_type": "code",
   "execution_count": 2,
   "metadata": {
    "collapsed": false
   },
   "outputs": [
    {
     "name": "stderr",
     "output_type": "stream",
     "text": [
      "Using Theano backend.\n",
      "WARNING (theano.sandbox.cuda): The cuda backend is deprecated and will be removed in the next release (v0.10).  Please switch to the gpuarray backend. You can get more information about how to switch at this URL:\n",
      " https://github.com/Theano/Theano/wiki/Converting-to-the-new-gpu-back-end%28gpuarray%29\n",
      "\n",
      "Using gpu device 0: GeForce 920M (CNMeM is disabled, cuDNN not available)\n"
     ]
    }
   ],
   "source": [
    "from scipy.sparse import *\n",
    "from keras.utils import np_utils\n",
    "\n",
    "A = np.vstack((np.ones((100,2)),-1*np.ones((100,2))))\n",
    "\n",
    "sintetic_target = np.hstack((np.ones((100)),-1*np.ones((100))))\n",
    "\n",
    "sparse_trgt = np_utils.to_categorical(sintetic_target)\n"
   ]
  },
  {
   "cell_type": "code",
   "execution_count": null,
   "metadata": {
    "collapsed": false
   },
   "outputs": [],
   "source": [
    "A.shape"
   ]
  },
  {
   "cell_type": "code",
   "execution_count": 3,
   "metadata": {
    "collapsed": false,
    "scrolled": true
   },
   "outputs": [],
   "source": [
    "from keras.models import Sequential\n",
    "from keras.layers.core import Dense, Dropout, Activation\n",
    "from keras.optimizers import *\n",
    "import keras.callbacks as callbacks\n",
    "\n",
    "\n",
    "class Compact_Keras(object):\n",
    "    '''\n",
    "    version -- v0.0\n",
    "    Compact Keras is a class that you can create Keras models faster and more easy with less code lines.\n",
    "    \n",
    "    Arguments:\n",
    "    \n",
    "    input_size -- the size of data (features) that will be use for contruct the neural network model.\n",
    "    \n",
    "    Keyword arguments:\n",
    "    \n",
    "    hidden_layers -- number of hidden layer to be used in your model (default is 1).\n",
    "    numbers_of_neurons -- numbers of neurons to be used to construct the model (default is 5).\n",
    "    epoch_numbers -- number of training epochs (default is 50).\n",
    "    batch_size -- number of events to be use in echa epoch (mini-batch) (default is 5).\n",
    "    callbacks -- callbacks to use in traning see https://keras.io/callbacks/ (default is None).\n",
    "    number_neurons_output_layer -- number of neurons to be use in output layer\n",
    "    loss_function -- function to be minimized in training (default is Binary Crossentropy).\n",
    "    optimizer -- optimizer to be used in traning (default is Adam).\n",
    "    output_layer_activation -- the function to be use in the output layer (default is hiperbolic tangent[tanh])\n",
    "    \n",
    "    \n",
    "    *~ it's possible use other Keras optimezers and Keras loss_functions more information on:\n",
    "        https://keras.io/optimizers/\n",
    "        https://keras.io/losses/  ~*\n",
    "\n",
    "    \n",
    "                        Compact Keras - Compact for those tho see giant for those who uses:\n",
    "    *=============================================================================================================*\n",
    "    ||                                   Classification Exemple:                                                 ||\n",
    "    || Create a sintetic input and sintetic target                                                               ||\n",
    "    || >>> A = np.vstack((np.ones((100,2)),-1*np.ones((100,2)))                                                  ||\n",
    "    || >>> sintetic_target = np.hstack((np.ones((100)),-1*np.ones((100)))                                        ||\n",
    "    || >>> sparse_trgt = np_utils.to_categorical(sintetic_target) # make targets maximally sparse                ||     \n",
    "    || Create the Compact Keras objet                                                                            ||\n",
    "    || >>> compact_keras = Compact_Keras(A.shape[1])                                                             ||\n",
    "    || >>> train_model = compact_keras.train(A[:150,:],sparse_trgt[:150,:],                                      ||\n",
    "    ||                                       validation_data=(A[150:,:],sparse_trgt[150:,:]))                    ||\n",
    "    ||                                                                                                           ||\n",
    "    ||                                                                                                           ||\n",
    "    *=============================================================================================================*\n",
    "    \n",
    "    '''\n",
    "    \n",
    "    def __init__(self, input_size, n_hidden_layers=1, number_of_neurons=5, number_neurons_output_layer=2,\n",
    "                 epoch_numbers=100, batch_size=5, callbacks=None,\n",
    "                 loss_function='binary_crossentropy',optimizer='adam',output_layer_activation='tanh'):\n",
    "        \n",
    "        \n",
    "        self.n_hidden_layers = n_hidden_layers\n",
    "        self.number_of_neurons = number_of_neurons\n",
    "        self.epoch_numbers = epoch_numbers\n",
    "        self.batch_size = batch_size\n",
    "        self.callbacks = callbacks\n",
    "        self.number_neurons_output_layer = number_neurons_output_layer\n",
    "        self.loss_function = loss_function\n",
    "        self.optimizer = optimizer\n",
    "        self.output_layer_activation = output_layer_activation\n",
    "        \n",
    "        # the constructor create and compile a keras model\n",
    "        model = Sequential()\n",
    "        model.add(Dense(input_size,\n",
    "                        kernel_initializer='identity',\n",
    "                        trainable=False,\n",
    "                        input_dim=input_size))\n",
    "        model.add(Activation('linear'))\n",
    "        \n",
    "        for ilayer in range(self.n_hidden_layers):\n",
    "            model.add(Dense(self.number_of_neurons, kernel_initializer='uniform',\n",
    "                            input_dim=input_size))\n",
    "            model.add(Activation('tanh'))\n",
    "            if ilayer != 0:\n",
    "                model.add(Dense(self.number_of_neurons, kernel_initializer='uniform',\n",
    "                                input_dim=self.number_of_neurons))\n",
    "                model.add(Activation('tanh'))\n",
    "            \n",
    "        model.add(Dense(self.number_neurons_output_layer,kernel_initializer='uniform'))\n",
    "        model.add(Activation(self.output_layer_activation)) \n",
    "        model.compile(loss=self.loss_function, optimizer=self.optimizer,\n",
    "                      metrics=['accuracy'])\n",
    "        self.model = model\n",
    "    \n",
    "    def train(self,input_data,data_target,validation_data,verbose=0,shuffle=True):\n",
    "    \n",
    "        self.verbose = verbose\n",
    "        self.shuffle = shuffle\n",
    "        \n",
    "        trn_desc = self.model.fit(input_data, data_target, \n",
    "                             epochs=self.epoch_numbers, \n",
    "                             batch_size=self.batch_size,\n",
    "                             callbacks=self.callbacks, \n",
    "                             verbose=verbose,\n",
    "                             validation_data=validation_data,\n",
    "                             shuffle=shuffle)\n",
    "        \n",
    "        return trn_desc\n",
    "        "
   ]
  },
  {
   "cell_type": "code",
   "execution_count": 7,
   "metadata": {
    "collapsed": false
   },
   "outputs": [],
   "source": [
    "compact_keras = Compact_Keras(A.shape[1])"
   ]
  },
  {
   "cell_type": "code",
   "execution_count": 10,
   "metadata": {
    "collapsed": false
   },
   "outputs": [],
   "source": [
    "train_model = compact_keras.train(A[:150,:],sparse_trgt[:150,:],validation_data=(A[150:,:],sparse_trgt[150:,:]))"
   ]
  },
  {
   "cell_type": "code",
   "execution_count": 11,
   "metadata": {
    "collapsed": false
   },
   "outputs": [
    {
     "data": {
      "image/png": "[encoded data removed]",
      "text/plain": [
       "<matplotlib.figure.Figure at 0x7fd603b90790>"
      ]
     },
     "metadata": {},
     "output_type": "display_data"
    }
   ],
   "source": [
    "import matplotlib.pyplot as plt\n",
    "plt.plot(train_model.history['acc'],label='train acc')\n",
    "plt.plot(train_model.history['val_acc'],label='val acc')\n",
    "plt.legend()\n",
    "plt.show()"
   ]
  },
  {
   "cell_type": "code",
   "execution_count": null,
   "metadata": {
    "collapsed": false
   },
   "outputs": [],
   "source": [
    "print(comp.model.output_shape)"
   ]
  },
  {
   "cell_type": "code",
   "execution_count": null,
   "metadata": {
    "collapsed": false
   },
   "outputs": [],
   "source": [
    "comp.model.predict(A)"
   ]
  },
  {
   "cell_type": "code",
   "execution_count": null,
   "metadata": {
    "collapsed": true
   },
   "outputs": [],
   "source": []
  }
 ],
 "metadata": {
  "kernelspec": {
   "display_name": "Python 2",
   "language": "python",
   "name": "python2"
  },
  "language_info": {
   "codemirror_mode": {
    "name": "ipython",
    "version": 2
   },
   "file_extension": ".py",
   "mimetype": "text/x-python",
   "name": "python",
   "nbconvert_exporter": "python",
   "pygments_lexer": "ipython2",
   "version": "2.7.13"
  }
 },
 "nbformat": 4,
 "nbformat_minor": 1
}
