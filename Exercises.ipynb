{
 "cells": [
  {
   "cell_type": "code",
   "execution_count": 15,
   "metadata": {
    "collapsed": false
   },
   "outputs": [
    {
     "name": "stdout",
     "output_type": "stream",
     "text": [
      "15\n"
     ]
    }
   ],
   "source": [
    "# 1\n",
    "list_numbers = [1,2,3,4,5]\n",
    "def sum_list(ln):\n",
    "    if len(ln) == 0:\n",
    "        return 0\n",
    "    return ln[0]+sum_list(ln[1:])\n",
    "print sum_list(list_numbers)"
   ]
  },
  {
   "cell_type": "code",
   "execution_count": 7,
   "metadata": {
    "collapsed": false
   },
   "outputs": [],
   "source": [
    "# 3\n",
    "test = [1, 2, [3,4], [5,6]]\n",
    "\n",
    "def Ex3(ln):\n",
    "    if len(ln) == 0:\n",
    "        return 0\n",
    "    \n",
    " \n"
   ]
  },
  {
   "cell_type": "code",
   "execution_count": 14,
   "metadata": {
    "collapsed": false
   },
   "outputs": [
    {
     "name": "stdout",
     "output_type": "stream",
     "text": [
      "21\n"
     ]
    }
   ],
   "source": [
    "# 6\n",
    "\n",
    "def sum_digits(number):\n",
    "    if number < 10:\n",
    "        return number\n",
    "    rest = number % 10\n",
    "    return rest +sum_digits((number-rest)/10)\n",
    "\n",
    "print sum_digits(597)"
   ]
  },
  {
   "cell_type": "code",
   "execution_count": 12,
   "metadata": {
    "collapsed": false
   },
   "outputs": [
    {
     "name": "stdout",
     "output_type": "stream",
     "text": [
      "12\n"
     ]
    }
   ],
   "source": [
    "# 7\n",
    "\n",
    "def sum_series(n):\n",
    "    if n <=0:\n",
    "        return 0\n",
    "    return n+sum_series(n-2)\n",
    "    \n",
    "print sum_series(6)"
   ]
  },
  {
   "cell_type": "code",
   "execution_count": 18,
   "metadata": {
    "collapsed": false
   },
   "outputs": [
    {
     "name": "stdout",
     "output_type": "stream",
     "text": [
      "2.5\n"
     ]
    }
   ],
   "source": [
    "# 8 - ta errado\n",
    "\n",
    "def sum_harmonic_series(n):\n",
    "    if n < 1:\n",
    "        return 1./2  \n",
    "    return 1./2*n +sum_harmonic_series(n-2)\n",
    "\n",
    "print sum_harmonic_series(3)"
   ]
  },
  {
   "cell_type": "code",
   "execution_count": 19,
   "metadata": {
    "collapsed": false
   },
   "outputs": [
    {
     "name": "stdout",
     "output_type": "stream",
     "text": [
      "2.28333333333\n"
     ]
    }
   ],
   "source": [
    "# 9\n",
    "\n",
    "def sum_geometric_series(n):\n",
    "    if n == 1:\n",
    "        return 1.\n",
    "    return 1./n + sum_geometric_series(n-1)\n",
    "print sum_geometric_series(5)"
   ]
  },
  {
   "cell_type": "code",
   "execution_count": 21,
   "metadata": {
    "collapsed": false
   },
   "outputs": [
    {
     "name": "stdout",
     "output_type": "stream",
     "text": [
      "8\n",
      "1.0\n"
     ]
    }
   ],
   "source": [
    "# 10\n",
    "\n",
    "def power(a,b):\n",
    "    if b == 0:\n",
    "        return 1.\n",
    "    if a == 1.:\n",
    "        return 1.\n",
    "    if b == 1.:\n",
    "        return a\n",
    "    return a*power(a,b-1)\n",
    "\n",
    "print power(2,3)\n",
    "print power(4,0)"
   ]
  },
  {
   "cell_type": "code",
   "execution_count": 23,
   "metadata": {
    "collapsed": true
   },
   "outputs": [],
   "source": [
    "# Hanoi Towers\n",
    "\n",
    "def hanoi(ndisk,source,target,spare):\n",
    "    if ndisk >=1:\n",
    "        hanoi(ndisk-1,source,spare,target)\n",
    "        print 'move %s to %s' %(source,target)\n",
    "        hanoi(ndisk-1,spare,target,source)"
   ]
  },
  {
   "cell_type": "code",
   "execution_count": 24,
   "metadata": {
    "collapsed": false
   },
   "outputs": [
    {
     "name": "stdout",
     "output_type": "stream",
     "text": [
      "move a to c\n",
      "move a to b\n",
      "move c to b\n",
      "move a to c\n",
      "move b to a\n",
      "move b to c\n",
      "move a to c\n"
     ]
    }
   ],
   "source": [
    "hanoi(3,'a','c','b')\n"
   ]
  },
  {
   "cell_type": "code",
   "execution_count": 25,
   "metadata": {
    "collapsed": false
   },
   "outputs": [
    {
     "name": "stdout",
     "output_type": "stream",
     "text": [
      "move a to b\n",
      "move a to c\n",
      "move b to c\n",
      "move a to b\n",
      "move c to a\n",
      "move c to b\n",
      "move a to b\n",
      "move a to c\n",
      "move b to c\n",
      "move b to a\n",
      "move c to a\n",
      "move b to c\n",
      "move a to b\n",
      "move a to c\n",
      "move b to c\n",
      "move a to b\n",
      "move c to a\n",
      "move c to b\n",
      "move a to b\n",
      "move c to a\n",
      "move b to c\n",
      "move b to a\n",
      "move c to a\n",
      "move c to b\n",
      "move a to b\n",
      "move a to c\n",
      "move b to c\n",
      "move a to b\n",
      "move c to a\n",
      "move c to b\n",
      "move a to b\n",
      "move a to c\n",
      "move b to c\n",
      "move b to a\n",
      "move c to a\n",
      "move b to c\n",
      "move a to b\n",
      "move a to c\n",
      "move b to c\n",
      "move b to a\n",
      "move c to a\n",
      "move c to b\n",
      "move a to b\n",
      "move c to a\n",
      "move b to c\n",
      "move b to a\n",
      "move c to a\n",
      "move b to c\n",
      "move a to b\n",
      "move a to c\n",
      "move b to c\n",
      "move a to b\n",
      "move c to a\n",
      "move c to b\n",
      "move a to b\n",
      "move a to c\n",
      "move b to c\n",
      "move b to a\n",
      "move c to a\n",
      "move b to c\n",
      "move a to b\n",
      "move a to c\n",
      "move b to c\n"
     ]
    }
   ],
   "source": [
    "hanoi(6,'a','c','b')"
   ]
  }
 ],
 "metadata": {
  "kernelspec": {
   "display_name": "Python 2",
   "language": "python",
   "name": "python2"
  },
  "language_info": {
   "codemirror_mode": {
    "name": "ipython",
    "version": 2
   },
   "file_extension": ".py",
   "mimetype": "text/x-python",
   "name": "python",
   "nbconvert_exporter": "python",
   "pygments_lexer": "ipython2",
   "version": "2.7.13"
  }
 },
 "nbformat": 4,
 "nbformat_minor": 1
}
